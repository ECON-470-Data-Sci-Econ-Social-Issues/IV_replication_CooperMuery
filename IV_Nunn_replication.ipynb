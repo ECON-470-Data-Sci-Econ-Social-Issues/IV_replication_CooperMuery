{
 "cells": [
  {
   "cell_type": "code",
   "execution_count": null,
   "id": "ea75ab35",
   "metadata": {
    "lines_to_next_cell": 1
   },
   "outputs": [],
   "source": [
    "import os\n",
    "import pandas as pd\n",
    "import numpy as np\n",
    "import statsmodels.api as sm\n",
    "import statsmodels.formula.api as smf\n",
    "import matplotlib.pyplot as plt\n",
    "import seaborn as sns"
   ]
  },
  {
   "cell_type": "code",
   "execution_count": null,
   "id": "c20c2aa1",
   "metadata": {
    "lines_to_next_cell": 1
   },
   "outputs": [],
   "source": [
    "# Load and clean data\n",
    "def load_data(file_name):\n",
    "    current_dir = os.getcwd()\n",
    "    os.chdir(current_dir)\n",
    "    data = pd.read_csv(file_name)\n",
    "    # Drop rows with NaN values\n",
    "    data.fillna('0')\n",
    "    return data"
   ]
  },
  {
   "cell_type": "code",
   "execution_count": null,
   "id": "a09599eb",
   "metadata": {
    "lines_to_next_cell": 1
   },
   "outputs": [],
   "source": [
    "# OLS Regression\n",
    "def perform_ols(data):\n",
    "    # Defining the model\n",
    "    independent_vars = ['ln_export_area', 'longitude', 'rain_min', 'humid_max', 'low_temp', 'ln_coastline_area', \n",
    "                        'island_dum', 'islam', 'legor_fr', 'region_n', 'ln_avg_gold_pop', 'ln_avg_oil_pop', \n",
    "                        'ln_avg_all_diamonds_pop'] + [f'colony{i}' for i in range(8)]\n",
    "    X = data[independent_vars]\n",
    "    y = data['ln_maddison_pcgdp2000']\n",
    "    X = sm.add_constant(X) # Adding a constant term\n",
    "\n",
    "    model = sm.OLS(y, X).fit()\n",
    "    return model"
   ]
  },
  {
   "cell_type": "code",
   "execution_count": null,
   "id": "7bf8d905",
   "metadata": {
    "lines_to_next_cell": 1
   },
   "outputs": [],
   "source": [
    "# Instrumental Variable Regression - First Stage\n",
    "def perform_iv_first_stage(data):\n",
    "    # Independent instrument variables\n",
    "    instruments = ['atlantic_distance_minimum', 'indian_distance_minimum', \n",
    "                   'saharan_distance_minimum', 'red_sea_distance_minimum']\n",
    "    X = data[instruments]\n",
    "    y = data['ln_export_area']\n",
    "    X = sm.add_constant(X) # Adding a constant term\n",
    "\n",
    "    first_stage = sm.OLS(y, X).fit()\n",
    "    data['predicted_ln_export_area'] = first_stage.predict(X) # Adding predicted values\n",
    "    return first_stage, data"
   ]
  },
  {
   "cell_type": "code",
   "execution_count": null,
   "id": "cb6d597f",
   "metadata": {
    "lines_to_next_cell": 1
   },
   "outputs": [],
   "source": [
    "# Instrumental Variable Regression - Second Stage\n",
    "def perform_iv_second_stage(data):\n",
    "    X = data[['predicted_ln_export_area']]\n",
    "    y = data['ln_maddison_pcgdp2000']\n",
    "    X = sm.add_constant(X) # Adding a constant term\n",
    "\n",
    "    second_stage = sm.OLS(y, X).fit()\n",
    "    return second_stage"
   ]
  },
  {
   "cell_type": "code",
   "execution_count": null,
   "id": "d59a1372",
   "metadata": {
    "lines_to_next_cell": 1
   },
   "outputs": [],
   "source": [
    "# Plotting scatter plots\n",
    "def plot_scatter(data, x_var, y_var, title, file_name):\n",
    "    plt.figure(figsize=(8, 6))\n",
    "    sns.regplot(x=x_var, y=y_var, data=data)\n",
    "    plt.title(title)\n",
    "    plt.savefig(file_name)"
   ]
  },
  {
   "cell_type": "code",
   "execution_count": null,
   "id": "86aabca1",
   "metadata": {
    "lines_to_next_cell": 1
   },
   "outputs": [],
   "source": [
    "# Saving regression summary and summary statistics\n",
    "def save_summary(model, file_name, data, independent_vars):\n",
    "    summary = model.summary().as_text()\n",
    "    summary_stats = data[independent_vars].describe().to_string()\n",
    "    with open(file_name, 'w') as file:\n",
    "        file.write(summary + '\\n\\nSummary Statistics:\\n' + summary_stats)"
   ]
  },
  {
   "cell_type": "code",
   "execution_count": null,
   "id": "b0f9e861",
   "metadata": {
    "lines_to_next_cell": 1
   },
   "outputs": [],
   "source": [
    "def main():\n",
    "    # Load data\n",
    "    data = load_data('replicationData.csv')\n",
    "\n",
    "    # OLS Regression\n",
    "    ols_model = perform_ols(data)\n",
    "    print(\"OLS Regression Summary:\")\n",
    "    print(ols_model.summary())\n",
    "    save_summary(ols_model, 'OLS_Regression_Summary.txt', data, ols_model.model.exog_names[1:-8])\n",
    "\n",
    "    # IV Regression - First Stage\n",
    "    iv_first_stage, data = perform_iv_first_stage(data)\n",
    "    print(\"\\nIV Regression First Stage Summary:\")\n",
    "    print(iv_first_stage.summary())\n",
    "    save_summary(iv_first_stage, 'IV_Regression_First_Summary.txt', data, ['ln_export_area', 'longitude', 'rain_min', 'humid_max', 'low_temp', 'ln_coastline_area', \n",
    "                        'island_dum', 'islam', 'legor_fr', 'region_n', 'ln_avg_gold_pop', 'ln_avg_oil_pop', \n",
    "                        'ln_avg_all_diamonds_pop'] + [f'colony{i}' for i in range(8)])\n",
    "\n",
    "    # IV Regression - Second Stage\n",
    "    iv_second_stage = perform_iv_second_stage(data)\n",
    "    print(\"\\nIV Regression Second Stage Summary:\")\n",
    "    print(iv_second_stage.summary())\n",
    "    save_summary(iv_second_stage, 'IV_Regression_Second_Summary.txt', data, ['predicted_ln_export_area'])\n",
    "\n",
    "    # Scatter Plots\n",
    "    plot_scatter(data, 'ln_export_area', 'ln_maddison_pcgdp2000', 'ln_export_area vs ln_maddison_pcgdp2000', 'ScatterPlot1.jpg')\n",
    "    plot_scatter(data, 'ln_pop_dens_1400', 'ln_export_area', 'ln_pop_dens_1400 vs ln_export_area', 'ScatterPlot2.jpg')\n",
    "    plot_scatter(data, 'ln_export_area', 'ethnic_fractionalization', 'ln_export_area vs Ethnic Fractionalization', 'ScatterPlot3.jpg')"
   ]
  },
  {
   "cell_type": "code",
   "execution_count": null,
   "id": "5acbff25",
   "metadata": {},
   "outputs": [],
   "source": [
    "if __name__ == \"__main__\":\n",
    "    main()"
   ]
  }
 ],
 "metadata": {
  "jupytext": {
   "cell_metadata_filter": "-all",
   "main_language": "python",
   "notebook_metadata_filter": "-all"
  }
 },
 "nbformat": 4,
 "nbformat_minor": 5
}
